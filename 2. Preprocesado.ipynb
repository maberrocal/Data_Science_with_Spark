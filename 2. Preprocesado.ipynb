{
 "cells": [
  {
   "cell_type": "markdown",
   "metadata": {},
   "source": [
    "# 2. Preprocesado\n",
    "\n",
    "En este apartado se estudiarán las características con valores perdidos y se discriminarán aquellas cuyos valores permiten \"NA's\" de las que no. Para los valores perdidos reales, se evaluarán diferentes formas de imputación y se ejecutará la que se considere más conveniente.\n",
    "\n",
    "Por otra parte, se procederá a la conversión de variables categóricas a dummies y a la transformación logarítmica de aquellas variables contínuas que no sigan una distribución normal y no cumplan la hipótesis de homocedasticidad. Por último se tipificarán las variables para conseguir un conjunto de datos lo más homogéneo posible e idóneo para el funcionamiento de los algoritmos."
   ]
  },
  {
   "cell_type": "markdown",
   "metadata": {},
   "source": [
    "## Inicialización de Spark y carga de librerías"
   ]
  },
  {
   "cell_type": "code",
   "execution_count": 1,
   "metadata": {},
   "outputs": [
    {
     "data": {
      "text/plain": [
       "<pyspark.sql.session.SparkSession at 0x1054a1a58>"
      ]
     },
     "execution_count": 1,
     "metadata": {},
     "output_type": "execute_result"
    }
   ],
   "source": [
    "import sys\n",
    "import os\n",
    "\n",
    "spark_path = \"/Applications/spark-2.1.0-bin-hadoop2.7\"\n",
    "sys.path.append(spark_path + \"/python\")\n",
    "sys.path.append(spark_path + \"/python/lib/py4j-0.10.4-src.zip\")\n",
    "\n",
    "from pyspark.sql import SparkSession\n",
    "\n",
    "spark = SparkSession.builder.master(\"local[*]\").appName(\"Entrega\") \\\n",
    "    .getOrCreate()\n",
    "\n",
    "spark"
   ]
  },
  {
   "cell_type": "code",
   "execution_count": 2,
   "metadata": {
    "collapsed": true
   },
   "outputs": [],
   "source": [
    "from pyspark.sql.functions import col, count, mean, sum as agg_sum\n",
    "from pyspark.sql.functions import lit \n",
    "from pyspark.sql.types import IntegerType, DoubleType \n",
    "from pyspark.sql.functions import  udf \n",
    "from pyspark.mllib.stat import Statistics \n",
    "from pyspark.mllib.linalg import Vectors\n",
    "from pyspark.ml.feature import StringIndexer, IndexToString, VectorAssembler, OneHotEncoder, StandardScaler\n",
    "from pyspark.ml import Pipeline\n",
    "from pyspark.sql.functions import log1p, expm1\n",
    "\n",
    "import pandas as pd\n",
    "import numpy as np\n",
    "import seaborn as sns\n",
    "import matplotlib.pyplot as plt\n",
    "%matplotlib inline"
   ]
  },
  {
   "cell_type": "markdown",
   "metadata": {},
   "source": [
    "## Carga  y unión de los datos"
   ]
  },
  {
   "cell_type": "code",
   "execution_count": 3,
   "metadata": {
    "collapsed": true
   },
   "outputs": [],
   "source": [
    "train_path = \"datos/train.csv\"\n",
    "test_path = \"datos/test.csv\"\n",
    "\n",
    "# Por simplicidad, se ha elegido la opción de inferir esquema de los datos\n",
    "test = spark.read.csv(test_path, header=True, inferSchema=True, nullValue= 'NA')\n",
    "train = spark.read.csv(train_path, header=True, inferSchema=True,nullValue= 'NA')\n",
    "\n",
    "# Se crea la columna Sale price para los datos test\n",
    "test = test.withColumn('SalePrice', lit(None).cast('Integer'))"
   ]
  },
  {
   "cell_type": "code",
   "execution_count": 4,
   "metadata": {},
   "outputs": [
    {
     "name": "stdout",
     "output_type": "stream",
     "text": [
      "Las columnas de ambos conjuntos tienen el mismo orden!!\n"
     ]
    }
   ],
   "source": [
    "# Hay que verificar que las columnas siguen el mismo orden y esquema\n",
    "if train.columns==test.columns:\n",
    "    # Unión de los datasets\n",
    "    union = train.union(test)\n",
    "    print(\"Las columnas de ambos conjuntos tienen el mismo orden!!\")\n",
    "else:\n",
    "    print(\"Error, llos dos conjuntos de datos tienen estructuras diferentes!!\")"
   ]
  },
  {
   "cell_type": "code",
   "execution_count": 5,
   "metadata": {},
   "outputs": [
    {
     "name": "stdout",
     "output_type": "stream",
     "text": [
      "Número de observaciones conjuntas entre los datos de entrenamiento y test:  2919\n"
     ]
    }
   ],
   "source": [
    "dataset_size = union.count()\n",
    "print(\"Número de observaciones conjuntas entre los datos de entrenamiento y test: \", dataset_size)"
   ]
  },
  {
   "cell_type": "markdown",
   "metadata": {},
   "source": [
    "## Valores perdidos:\n",
    "\n",
    "En este apartado analizaremos y discriminaremos los diferentes casos en los que existen valores perdidos. La documentación adjunta en el proyecto indica que hay ciertas variables en los que los valores NA constituyen un valor en sí mismo, y por tanto no deben de considerarse valores perdidos como tal. \n",
    "\n",
    "Hay que tener cuidado a la hora de eliminar observaciones completas debido a la existencia de valores perdidos ya que conlleva una reducción del conjunto de datos. Por otra parte, la imputación de valores perdidos también ha de realizarse siguiendo ciertos criterios que eviten sesgar las observaciones.\n",
    "\n",
    "Vamos a recuperar la gráfica realizada en el notebook 1. Análisis, en la que se observan las variables con mayor número de valores faltantes. "
   ]
  },
  {
   "cell_type": "code",
   "execution_count": 6,
   "metadata": {
    "collapsed": true
   },
   "outputs": [],
   "source": [
    "# Funciones que permiten el cálculo de los valores perdidos por variable\n",
    "from pyspark.sql.functions import col, count, sum as agg_sum\n",
    "\n",
    "# Devuelve el agregado de valoes perdidos para cada columna pasada por parámetro\n",
    "def count_nulls(c):\n",
    "    return agg_sum(col(c).isNull().cast(IntegerType())).alias(c)\n",
    "\n",
    "# Devuelve la agregación de todas las columnas\n",
    "def tmp1(df):\n",
    "    # Definimos la operación para cada columna del DF.\n",
    "    exprs = [count_nulls(c) for c in df.columns]\n",
    "    return df.agg(*exprs).collect()\n",
    "\n",
    "# El resultado se convierte a diccionario para facilitar el tratamiento\n",
    "dic_list = tmp1(union)[0].asDict()\n",
    "\n",
    "# Se filtran aquellas variables sin valores perdidos\n",
    "dic_filtered = dict((k, v) for (k, v) in dic_list.items() if v > 0)\n",
    "\n",
    "# Se oredenan en función del número de valores perdidos\n",
    "temp = sorted(dic_filtered.items(), key=lambda x: x[1], reverse = True)"
   ]
  },
  {
   "cell_type": "code",
   "execution_count": 7,
   "metadata": {},
   "outputs": [
    {
     "name": "stdout",
     "output_type": "stream",
     "text": [
      "Se tienen un total de 34 variables con valores perdidos\n"
     ]
    }
   ],
   "source": [
    "# Se crean listas que almacenan los valores y etiquetas\n",
    "var = [var[0] for var in temp if var[0]!= \"SalePrice\"]\n",
    "value = [value[1] for value in temp if value[0]!= \"SalePrice\"]\n",
    "percent = [(value[1]/dataset_size)*100 for value in temp if value[0]!= \"SalePrice\"]\n",
    "\n",
    "print(\"Se tienen un total de {} variables con valores perdidos\".format(len(value)))"
   ]
  },
  {
   "cell_type": "code",
   "execution_count": 8,
   "metadata": {},
   "outputs": [
    {
     "data": {
      "image/png": "[encoded data removed]",
      "text/plain": [
       "<matplotlib.figure.Figure at 0x1097e7a90>"
      ]
     },
     "metadata": {},
     "output_type": "display_data"
    }
   ],
   "source": [
    "# Por motivos de representación sólo se mostrarán las 15 variables con mayor número de valores perdidos\n",
    "sns.set_style()\n",
    "plt.figure(figsize=(16,8))\n",
    "plt.xticks(rotation=45)\n",
    "ax = sns.barplot(x=var[:15], y=value[:15])"
   ]
  },
  {
   "cell_type": "markdown",
   "metadata": {},
   "source": [
    "Hay muchas teorías diferentes en cuanto al máximo porcentaje de valores perdidos en una variable antes de considerar eliminarla. En nuestro caso, se tomará uno de los límites más extendidos, el del 15%. Por tanto, se eliminarán aquellas variables que presenten más del 15% de valores perdidos. Imputar valores a una variable que supere dicho umbral de valores perdidos podría sesgar la muestra e inducir ruido en nuestro dataset."
   ]
  },
  {
   "cell_type": "code",
   "execution_count": 9,
   "metadata": {},
   "outputs": [
    {
     "data": {
      "text/html": [
       "<div>\n",
       "<style>\n",
       "    .dataframe thead tr:only-child th {\n",
       "        text-align: right;\n",
       "    }\n",
       "\n",
       "    .dataframe thead th {\n",
       "        text-align: left;\n",
       "    }\n",
       "\n",
       "    .dataframe tbody tr th {\n",
       "        vertical-align: top;\n",
       "    }\n",
       "</style>\n",
       "<table border=\"1\" class=\"dataframe\">\n",
       "  <thead>\n",
       "    <tr style=\"text-align: right;\">\n",
       "      <th></th>\n",
       "      <th>Var name</th>\n",
       "      <th>Total</th>\n",
       "      <th>Percent</th>\n",
       "    </tr>\n",
       "  </thead>\n",
       "  <tbody>\n",
       "    <tr>\n",
       "      <th>0</th>\n",
       "      <td>PoolQC</td>\n",
       "      <td>2909</td>\n",
       "      <td>99.657417</td>\n",
       "    </tr>\n",
       "    <tr>\n",
       "      <th>1</th>\n",
       "      <td>MiscFeature</td>\n",
       "      <td>2814</td>\n",
       "      <td>96.402878</td>\n",
       "    </tr>\n",
       "    <tr>\n",
       "      <th>2</th>\n",
       "      <td>Alley</td>\n",
       "      <td>2721</td>\n",
       "      <td>93.216855</td>\n",
       "    </tr>\n",
       "    <tr>\n",
       "      <th>3</th>\n",
       "      <td>Fence</td>\n",
       "      <td>2348</td>\n",
       "      <td>80.438506</td>\n",
       "    </tr>\n",
       "    <tr>\n",
       "      <th>4</th>\n",
       "      <td>FireplaceQu</td>\n",
       "      <td>1420</td>\n",
       "      <td>48.646797</td>\n",
       "    </tr>\n",
       "    <tr>\n",
       "      <th>5</th>\n",
       "      <td>LotFrontage</td>\n",
       "      <td>486</td>\n",
       "      <td>16.649538</td>\n",
       "    </tr>\n",
       "    <tr>\n",
       "      <th>6</th>\n",
       "      <td>GarageYrBlt</td>\n",
       "      <td>159</td>\n",
       "      <td>5.447071</td>\n",
       "    </tr>\n",
       "    <tr>\n",
       "      <th>7</th>\n",
       "      <td>GarageQual</td>\n",
       "      <td>159</td>\n",
       "      <td>5.447071</td>\n",
       "    </tr>\n",
       "    <tr>\n",
       "      <th>8</th>\n",
       "      <td>GarageCond</td>\n",
       "      <td>159</td>\n",
       "      <td>5.447071</td>\n",
       "    </tr>\n",
       "    <tr>\n",
       "      <th>9</th>\n",
       "      <td>GarageFinish</td>\n",
       "      <td>159</td>\n",
       "      <td>5.447071</td>\n",
       "    </tr>\n",
       "    <tr>\n",
       "      <th>10</th>\n",
       "      <td>GarageType</td>\n",
       "      <td>157</td>\n",
       "      <td>5.378554</td>\n",
       "    </tr>\n",
       "    <tr>\n",
       "      <th>11</th>\n",
       "      <td>BsmtExposure</td>\n",
       "      <td>82</td>\n",
       "      <td>2.809181</td>\n",
       "    </tr>\n",
       "    <tr>\n",
       "      <th>12</th>\n",
       "      <td>BsmtCond</td>\n",
       "      <td>82</td>\n",
       "      <td>2.809181</td>\n",
       "    </tr>\n",
       "    <tr>\n",
       "      <th>13</th>\n",
       "      <td>BsmtQual</td>\n",
       "      <td>81</td>\n",
       "      <td>2.774923</td>\n",
       "    </tr>\n",
       "    <tr>\n",
       "      <th>14</th>\n",
       "      <td>BsmtFinType2</td>\n",
       "      <td>80</td>\n",
       "      <td>2.740665</td>\n",
       "    </tr>\n",
       "    <tr>\n",
       "      <th>15</th>\n",
       "      <td>BsmtFinType1</td>\n",
       "      <td>79</td>\n",
       "      <td>2.706406</td>\n",
       "    </tr>\n",
       "    <tr>\n",
       "      <th>16</th>\n",
       "      <td>MasVnrType</td>\n",
       "      <td>24</td>\n",
       "      <td>0.822199</td>\n",
       "    </tr>\n",
       "    <tr>\n",
       "      <th>17</th>\n",
       "      <td>MasVnrArea</td>\n",
       "      <td>23</td>\n",
       "      <td>0.787941</td>\n",
       "    </tr>\n",
       "    <tr>\n",
       "      <th>18</th>\n",
       "      <td>MSZoning</td>\n",
       "      <td>4</td>\n",
       "      <td>0.137033</td>\n",
       "    </tr>\n",
       "    <tr>\n",
       "      <th>19</th>\n",
       "      <td>BsmtFullBath</td>\n",
       "      <td>2</td>\n",
       "      <td>0.068517</td>\n",
       "    </tr>\n",
       "    <tr>\n",
       "      <th>20</th>\n",
       "      <td>Functional</td>\n",
       "      <td>2</td>\n",
       "      <td>0.068517</td>\n",
       "    </tr>\n",
       "    <tr>\n",
       "      <th>21</th>\n",
       "      <td>Utilities</td>\n",
       "      <td>2</td>\n",
       "      <td>0.068517</td>\n",
       "    </tr>\n",
       "    <tr>\n",
       "      <th>22</th>\n",
       "      <td>BsmtHalfBath</td>\n",
       "      <td>2</td>\n",
       "      <td>0.068517</td>\n",
       "    </tr>\n",
       "    <tr>\n",
       "      <th>23</th>\n",
       "      <td>BsmtFinSF1</td>\n",
       "      <td>1</td>\n",
       "      <td>0.034258</td>\n",
       "    </tr>\n",
       "    <tr>\n",
       "      <th>24</th>\n",
       "      <td>SaleType</td>\n",
       "      <td>1</td>\n",
       "      <td>0.034258</td>\n",
       "    </tr>\n",
       "  </tbody>\n",
       "</table>\n",
       "</div>"
      ],
      "text/plain": [
       "        Var name  Total    Percent\n",
       "0         PoolQC   2909  99.657417\n",
       "1    MiscFeature   2814  96.402878\n",
       "2          Alley   2721  93.216855\n",
       "3          Fence   2348  80.438506\n",
       "4    FireplaceQu   1420  48.646797\n",
       "5    LotFrontage    486  16.649538\n",
       "6    GarageYrBlt    159   5.447071\n",
       "7     GarageQual    159   5.447071\n",
       "8     GarageCond    159   5.447071\n",
       "9   GarageFinish    159   5.447071\n",
       "10    GarageType    157   5.378554\n",
       "11  BsmtExposure     82   2.809181\n",
       "12      BsmtCond     82   2.809181\n",
       "13      BsmtQual     81   2.774923\n",
       "14  BsmtFinType2     80   2.740665\n",
       "15  BsmtFinType1     79   2.706406\n",
       "16    MasVnrType     24   0.822199\n",
       "17    MasVnrArea     23   0.787941\n",
       "18      MSZoning      4   0.137033\n",
       "19  BsmtFullBath      2   0.068517\n",
       "20    Functional      2   0.068517\n",
       "21     Utilities      2   0.068517\n",
       "22  BsmtHalfBath      2   0.068517\n",
       "23    BsmtFinSF1      1   0.034258\n",
       "24      SaleType      1   0.034258"
      ]
     },
     "execution_count": 9,
     "metadata": {},
     "output_type": "execute_result"
    }
   ],
   "source": [
    "data ={\"Var name\": var, \"Total\":value, \"Percent\":percent}\n",
    "con_na = pd.DataFrame(data, columns=[[\"Var name\", \"Total\", \"Percent\"]])\n",
    "con_na.head(25)"
   ]
  },
  {
   "cell_type": "markdown",
   "metadata": {},
   "source": [
    "Según la consideración anterior, y con la lectura de la tabla, se determina que las variables **PoolQC, MiscFeature, Alley, Fence, FireplaceQu y LotFrontage** han de ser eliminadas. Sin embargo, y tal como se introdujo en el comienzo del ejercicio, muchos de los valores \"NA\" en estas variables son valores permitidos, por lo que antes de eliminar ninguna variable, hemos de tener en cuenta esta situación."
   ]
  },
  {
   "cell_type": "markdown",
   "metadata": {},
   "source": [
    "## Cambio de NA por etiqueta con significado."
   ]
  },
  {
   "cell_type": "code",
   "execution_count": 10,
   "metadata": {
    "collapsed": true
   },
   "outputs": [],
   "source": [
    "# Columnas con NA permitidos:\n",
    "valid_na_col = ['Alley', 'BsmtQual', 'BsmtCond', 'BsmtExposure', 'BsmtFinType1', 'BsmtFinType2', \n",
    "                'FireplaceQu', 'GarageType', 'GarageFinish', 'GarageQual', 'GarageCond', 'PoolQC', \n",
    "                'Fence', 'MiscFeature']"
   ]
  },
  {
   "cell_type": "markdown",
   "metadata": {},
   "source": [
    "### Numéricas:"
   ]
  },
  {
   "cell_type": "code",
   "execution_count": 11,
   "metadata": {
    "collapsed": true
   },
   "outputs": [],
   "source": [
    "union = union.withColumn('GarageYrBlt_NA', col('GarageYrBlt').isNull().cast('Integer'))\n",
    "GarageYrBlt_mean = union.agg(mean(col('GarageYrBlt')).alias('media')).collect()[0]['media']\n",
    "union = union.fillna({'GarageYrBlt':GarageYrBlt_mean})"
   ]
  },
  {
   "cell_type": "markdown",
   "metadata": {},
   "source": [
    "### Categóricas:"
   ]
  },
  {
   "cell_type": "code",
   "execution_count": 12,
   "metadata": {
    "collapsed": true
   },
   "outputs": [],
   "source": [
    "# Se rellenan con cat_NA los valores perdidos en las variables premitidas\n",
    "tmp_dic ={c:'cat_NA' for c in dic_filtered if c in valid_na_col}\n",
    "union=union.fillna(tmp_dic)"
   ]
  },
  {
   "cell_type": "code",
   "execution_count": 13,
   "metadata": {},
   "outputs": [
    {
     "name": "stdout",
     "output_type": "stream",
     "text": [
      "+------+--------+--------+------------+------------+------------+-----------+----------+------------+----------+\n",
      "| Alley|BsmtQual|BsmtCond|BsmtExposure|BsmtFinType1|BsmtFinType2|FireplaceQu|GarageType|GarageFinish|GarageQual|\n",
      "+------+--------+--------+------------+------------+------------+-----------+----------+------------+----------+\n",
      "|cat_NA|      Gd|      TA|          No|         GLQ|         Unf|     cat_NA|    Attchd|         RFn|        TA|\n",
      "|cat_NA|      Gd|      TA|          Gd|         ALQ|         Unf|         TA|    Attchd|         RFn|        TA|\n",
      "|cat_NA|      Gd|      TA|          Mn|         GLQ|         Unf|         TA|    Attchd|         RFn|        TA|\n",
      "|cat_NA|      TA|      Gd|          No|         ALQ|         Unf|         Gd|    Detchd|         Unf|        TA|\n",
      "|cat_NA|      Gd|      TA|          Av|         GLQ|         Unf|         TA|    Attchd|         RFn|        TA|\n",
      "|cat_NA|      Gd|      TA|          No|         GLQ|         Unf|     cat_NA|    Attchd|         Unf|        TA|\n",
      "|cat_NA|      Ex|      TA|          Av|         GLQ|         Unf|         Gd|    Attchd|         RFn|        TA|\n",
      "|cat_NA|      Gd|      TA|          Mn|         ALQ|         BLQ|         TA|    Attchd|         RFn|        TA|\n",
      "|cat_NA|      TA|      TA|          No|         Unf|         Unf|         TA|    Detchd|         Unf|        Fa|\n",
      "|cat_NA|      TA|      TA|          No|         GLQ|         Unf|         TA|    Attchd|         RFn|        Gd|\n",
      "+------+--------+--------+------------+------------+------------+-----------+----------+------------+----------+\n",
      "only showing top 10 rows\n",
      "\n"
     ]
    }
   ],
   "source": [
    "union.select(valid_na_col[:10]).show(10)"
   ]
  },
  {
   "cell_type": "markdown",
   "metadata": {},
   "source": [
    "### Recálculo de valores perdidos"
   ]
  },
  {
   "cell_type": "code",
   "execution_count": 14,
   "metadata": {},
   "outputs": [
    {
     "name": "stdout",
     "output_type": "stream",
     "text": [
      "Se tienen un total de 19 variables con valores perdidos\n"
     ]
    }
   ],
   "source": [
    "# El resultado se convierte a diccionario para facilitar el tratamiento\n",
    "dic_list = tmp1(union)[0].asDict()\n",
    "\n",
    "# Se filtran aquellas variables sin valores perdidos\n",
    "dic_filtered = dict((k, v) for (k, v) in dic_list.items() if v > 0)\n",
    "\n",
    "# Se oredenan en función del número de valores perdidos\n",
    "temp = sorted(dic_filtered.items(), key=lambda x: x[1], reverse = True)\n",
    "\n",
    "# Se crean listas que almacenan los valores y etiquetas\n",
    "var = [var[0] for var in temp if var[0]!= \"SalePrice\"]\n",
    "value = [value[1] for value in temp if value[0]!= \"SalePrice\"]\n",
    "percent = [(value[1]/dataset_size)*100 for value in temp if value[0]!= \"SalePrice\"]\n",
    "\n",
    "print(\"Se tienen un total de {} variables con valores perdidos\".format(len(value)))"
   ]
  },
  {
   "cell_type": "code",
   "execution_count": 15,
   "metadata": {},
   "outputs": [
    {
     "data": {
      "image/png": "[encoded data removed]",
      "text/plain": [
       "<matplotlib.figure.Figure at 0x1097f6cc0>"
      ]
     },
     "metadata": {},
     "output_type": "display_data"
    }
   ],
   "source": [
    "# Por motivos de representación sólo se mostrarán las 15 variables con mayor número de valores perdidos\n",
    "sns.set_style()\n",
    "plt.figure(figsize=(16,6))\n",
    "plt.xticks(rotation=45)\n",
    "ax = sns.barplot(x=var[:15], y=value[:15])"
   ]
  },
  {
   "cell_type": "code",
   "execution_count": 16,
   "metadata": {},
   "outputs": [
    {
     "data": {
      "text/html": [
       "<div>\n",
       "<style>\n",
       "    .dataframe thead tr:only-child th {\n",
       "        text-align: right;\n",
       "    }\n",
       "\n",
       "    .dataframe thead th {\n",
       "        text-align: left;\n",
       "    }\n",
       "\n",
       "    .dataframe tbody tr th {\n",
       "        vertical-align: top;\n",
       "    }\n",
       "</style>\n",
       "<table border=\"1\" class=\"dataframe\">\n",
       "  <thead>\n",
       "    <tr style=\"text-align: right;\">\n",
       "      <th></th>\n",
       "      <th>Var name</th>\n",
       "      <th>Total</th>\n",
       "      <th>Percent</th>\n",
       "    </tr>\n",
       "  </thead>\n",
       "  <tbody>\n",
       "    <tr>\n",
       "      <th>0</th>\n",
       "      <td>LotFrontage</td>\n",
       "      <td>486</td>\n",
       "      <td>16.649538</td>\n",
       "    </tr>\n",
       "    <tr>\n",
       "      <th>1</th>\n",
       "      <td>MasVnrType</td>\n",
       "      <td>24</td>\n",
       "      <td>0.822199</td>\n",
       "    </tr>\n",
       "    <tr>\n",
       "      <th>2</th>\n",
       "      <td>MasVnrArea</td>\n",
       "      <td>23</td>\n",
       "      <td>0.787941</td>\n",
       "    </tr>\n",
       "    <tr>\n",
       "      <th>3</th>\n",
       "      <td>MSZoning</td>\n",
       "      <td>4</td>\n",
       "      <td>0.137033</td>\n",
       "    </tr>\n",
       "    <tr>\n",
       "      <th>4</th>\n",
       "      <td>BsmtHalfBath</td>\n",
       "      <td>2</td>\n",
       "      <td>0.068517</td>\n",
       "    </tr>\n",
       "    <tr>\n",
       "      <th>5</th>\n",
       "      <td>Functional</td>\n",
       "      <td>2</td>\n",
       "      <td>0.068517</td>\n",
       "    </tr>\n",
       "    <tr>\n",
       "      <th>6</th>\n",
       "      <td>Utilities</td>\n",
       "      <td>2</td>\n",
       "      <td>0.068517</td>\n",
       "    </tr>\n",
       "    <tr>\n",
       "      <th>7</th>\n",
       "      <td>BsmtFullBath</td>\n",
       "      <td>2</td>\n",
       "      <td>0.068517</td>\n",
       "    </tr>\n",
       "    <tr>\n",
       "      <th>8</th>\n",
       "      <td>BsmtUnfSF</td>\n",
       "      <td>1</td>\n",
       "      <td>0.034258</td>\n",
       "    </tr>\n",
       "    <tr>\n",
       "      <th>9</th>\n",
       "      <td>SaleType</td>\n",
       "      <td>1</td>\n",
       "      <td>0.034258</td>\n",
       "    </tr>\n",
       "    <tr>\n",
       "      <th>10</th>\n",
       "      <td>BsmtFinSF1</td>\n",
       "      <td>1</td>\n",
       "      <td>0.034258</td>\n",
       "    </tr>\n",
       "    <tr>\n",
       "      <th>11</th>\n",
       "      <td>GarageCars</td>\n",
       "      <td>1</td>\n",
       "      <td>0.034258</td>\n",
       "    </tr>\n",
       "    <tr>\n",
       "      <th>12</th>\n",
       "      <td>BsmtFinSF2</td>\n",
       "      <td>1</td>\n",
       "      <td>0.034258</td>\n",
       "    </tr>\n",
       "    <tr>\n",
       "      <th>13</th>\n",
       "      <td>Exterior1st</td>\n",
       "      <td>1</td>\n",
       "      <td>0.034258</td>\n",
       "    </tr>\n",
       "    <tr>\n",
       "      <th>14</th>\n",
       "      <td>TotalBsmtSF</td>\n",
       "      <td>1</td>\n",
       "      <td>0.034258</td>\n",
       "    </tr>\n",
       "    <tr>\n",
       "      <th>15</th>\n",
       "      <td>KitchenQual</td>\n",
       "      <td>1</td>\n",
       "      <td>0.034258</td>\n",
       "    </tr>\n",
       "    <tr>\n",
       "      <th>16</th>\n",
       "      <td>Electrical</td>\n",
       "      <td>1</td>\n",
       "      <td>0.034258</td>\n",
       "    </tr>\n",
       "    <tr>\n",
       "      <th>17</th>\n",
       "      <td>Exterior2nd</td>\n",
       "      <td>1</td>\n",
       "      <td>0.034258</td>\n",
       "    </tr>\n",
       "    <tr>\n",
       "      <th>18</th>\n",
       "      <td>GarageArea</td>\n",
       "      <td>1</td>\n",
       "      <td>0.034258</td>\n",
       "    </tr>\n",
       "  </tbody>\n",
       "</table>\n",
       "</div>"
      ],
      "text/plain": [
       "        Var name  Total    Percent\n",
       "0    LotFrontage    486  16.649538\n",
       "1     MasVnrType     24   0.822199\n",
       "2     MasVnrArea     23   0.787941\n",
       "3       MSZoning      4   0.137033\n",
       "4   BsmtHalfBath      2   0.068517\n",
       "5     Functional      2   0.068517\n",
       "6      Utilities      2   0.068517\n",
       "7   BsmtFullBath      2   0.068517\n",
       "8      BsmtUnfSF      1   0.034258\n",
       "9       SaleType      1   0.034258\n",
       "10    BsmtFinSF1      1   0.034258\n",
       "11    GarageCars      1   0.034258\n",
       "12    BsmtFinSF2      1   0.034258\n",
       "13   Exterior1st      1   0.034258\n",
       "14   TotalBsmtSF      1   0.034258\n",
       "15   KitchenQual      1   0.034258\n",
       "16    Electrical      1   0.034258\n",
       "17   Exterior2nd      1   0.034258\n",
       "18    GarageArea      1   0.034258"
      ]
     },
     "execution_count": 16,
     "metadata": {},
     "output_type": "execute_result"
    }
   ],
   "source": [
    "data ={\"Var name\": var, \"Total\":value, \"Percent\":percent}\n",
    "con_na = pd.DataFrame(data, columns=[[\"Var name\", \"Total\", \"Percent\"]])\n",
    "con_na.head(25)"
   ]
  },
  {
   "cell_type": "markdown",
   "metadata": {},
   "source": [
    "Una vez actuado en consecuencia, se observa que solo existe una variable candidata a ser eliminada, **LotFrontage**. Por otro lado se ha pasado de tener 34 variables con valores perdidos a solamente 18. De estas 18 variables, 10 de ellas solo tienen 1 observación con valor faltante.\n",
    "\n",
    "Las variables con mayor número de valores perdidos son **MasVnrType y MasVnrArea**, ambas asociadas a los materiales y área de albañileria.\n",
    "\n",
    "Veamos si las variables con 1 solo dato faltante corresponden a la misma observación."
   ]
  },
  {
   "cell_type": "code",
   "execution_count": 17,
   "metadata": {},
   "outputs": [
    {
     "name": "stdout",
     "output_type": "stream",
     "text": [
      "+----+------------+---------+\n",
      "|  Id|BsmtHalfBath|SalePrice|\n",
      "+----+------------+---------+\n",
      "|2121|        null|     null|\n",
      "|2189|        null|     null|\n",
      "+----+------------+---------+\n",
      "\n",
      "+----+----------+---------+\n",
      "|  Id|Functional|SalePrice|\n",
      "+----+----------+---------+\n",
      "|2217|      null|     null|\n",
      "|2474|      null|     null|\n",
      "+----+----------+---------+\n",
      "\n",
      "+----+---------+---------+\n",
      "|  Id|Utilities|SalePrice|\n",
      "+----+---------+---------+\n",
      "|1916|     null|     null|\n",
      "|1946|     null|     null|\n",
      "+----+---------+---------+\n",
      "\n",
      "+----+------------+---------+\n",
      "|  Id|BsmtFullBath|SalePrice|\n",
      "+----+------------+---------+\n",
      "|2121|        null|     null|\n",
      "|2189|        null|     null|\n",
      "+----+------------+---------+\n",
      "\n",
      "+----+---------+---------+\n",
      "|  Id|BsmtUnfSF|SalePrice|\n",
      "+----+---------+---------+\n",
      "|2121|     null|     null|\n",
      "+----+---------+---------+\n",
      "\n",
      "+----+--------+---------+\n",
      "|  Id|SaleType|SalePrice|\n",
      "+----+--------+---------+\n",
      "|2490|    null|     null|\n",
      "+----+--------+---------+\n",
      "\n",
      "+----+----------+---------+\n",
      "|  Id|BsmtFinSF1|SalePrice|\n",
      "+----+----------+---------+\n",
      "|2121|      null|     null|\n",
      "+----+----------+---------+\n",
      "\n",
      "+----+----------+---------+\n",
      "|  Id|GarageCars|SalePrice|\n",
      "+----+----------+---------+\n",
      "|2577|      null|     null|\n",
      "+----+----------+---------+\n",
      "\n",
      "+----+----------+---------+\n",
      "|  Id|BsmtFinSF2|SalePrice|\n",
      "+----+----------+---------+\n",
      "|2121|      null|     null|\n",
      "+----+----------+---------+\n",
      "\n",
      "+----+-----------+---------+\n",
      "|  Id|Exterior1st|SalePrice|\n",
      "+----+-----------+---------+\n",
      "|2152|       null|     null|\n",
      "+----+-----------+---------+\n",
      "\n",
      "+----+-----------+---------+\n",
      "|  Id|TotalBsmtSF|SalePrice|\n",
      "+----+-----------+---------+\n",
      "|2121|       null|     null|\n",
      "+----+-----------+---------+\n",
      "\n",
      "+----+-----------+---------+\n",
      "|  Id|KitchenQual|SalePrice|\n",
      "+----+-----------+---------+\n",
      "|1556|       null|     null|\n",
      "+----+-----------+---------+\n",
      "\n",
      "+----+----------+---------+\n",
      "|  Id|Electrical|SalePrice|\n",
      "+----+----------+---------+\n",
      "|1380|      null|   167500|\n",
      "+----+----------+---------+\n",
      "\n",
      "+----+-----------+---------+\n",
      "|  Id|Exterior2nd|SalePrice|\n",
      "+----+-----------+---------+\n",
      "|2152|       null|     null|\n",
      "+----+-----------+---------+\n",
      "\n",
      "+----+----------+---------+\n",
      "|  Id|GarageArea|SalePrice|\n",
      "+----+----------+---------+\n",
      "|2577|      null|     null|\n",
      "+----+----------+---------+\n",
      "\n"
     ]
    }
   ],
   "source": [
    "tmp = con_na[con_na[\"Total\"]<4][\"Var name\"].tolist()\n",
    "\n",
    "def NA_id(c):\n",
    "    union.filter(col(c).isNull()).select('Id',c,'SalePrice').show()\n",
    "    \n",
    "for c in tmp:\n",
    "    NA_id(c)"
   ]
  },
  {
   "cell_type": "markdown",
   "metadata": {},
   "source": [
    "Se observa que salvo la variable con id = 1380, el resto se encuentran en el conjunto de test, ya que **SalePrice** tiene el valor a \"NULL\", y no las podemos eliminar. Por lo que es necesario imputar los valores perdidos uno a uno dependiendo de la variable en cuestión."
   ]
  },
  {
   "cell_type": "markdown",
   "metadata": {},
   "source": [
    "## Imputación de valores perdidos"
   ]
  },
  {
   "cell_type": "markdown",
   "metadata": {},
   "source": [
    "### Variables asociadas a Basement."
   ]
  },
  {
   "cell_type": "code",
   "execution_count": 18,
   "metadata": {},
   "outputs": [
    {
     "name": "stdout",
     "output_type": "stream",
     "text": [
      "+-------+-----------------+\n",
      "|summary|        BsmtUnfSF|\n",
      "+-------+-----------------+\n",
      "|  count|             2918|\n",
      "|   mean|560.7721041809458|\n",
      "| stddev|439.5436594234397|\n",
      "|    min|                0|\n",
      "|    max|             2336|\n",
      "+-------+-----------------+\n",
      "\n",
      "+-------+------------------+\n",
      "|summary|       TotalBsmtSF|\n",
      "+-------+------------------+\n",
      "|  count|              2918|\n",
      "|   mean|1051.7775873886224|\n",
      "| stddev| 440.7662581159385|\n",
      "|    min|                 0|\n",
      "|    max|              6110|\n",
      "+-------+------------------+\n",
      "\n"
     ]
    }
   ],
   "source": [
    "union.select(col('BsmtUnfSF')).describe().show()\n",
    "union.select(col('TotalBsmtSF')).describe().show()"
   ]
  },
  {
   "cell_type": "markdown",
   "metadata": {},
   "source": [
    "Con la inspección realizada anteriormente se observa que solo existen dos observaciones con valores missing para las variables asociadas a \"Bsmnt\", en concreto aquelllas con **Id** = 2121 y 2189. Dichos valores serán sustituidos por 0."
   ]
  },
  {
   "cell_type": "code",
   "execution_count": 19,
   "metadata": {
    "collapsed": true
   },
   "outputs": [],
   "source": [
    "NA_dict={}\n",
    "NA_dict['BsmtFinSF1']=0\n",
    "NA_dict['BsmtFinSF2']=0\n",
    "NA_dict['BsmtFullBath']=0\n",
    "NA_dict['BsmtHalfBath']=0\n",
    "NA_dict['BsmtUnfSF']=0\n",
    "NA_dict['TotalBsmtSF']=0"
   ]
  },
  {
   "cell_type": "markdown",
   "metadata": {},
   "source": [
    "### Variable electrical.\n",
    "\n",
    "Solo existe una observación con este valor perdido por lo que se podría eliminar. Sin embargo, el tipo de instalación eléctrica puede guardar relación con el año de construcción de la vivienda. Por ello, se va localizar la observación con el valor perdido, así como su año de construcción."
   ]
  },
  {
   "cell_type": "code",
   "execution_count": 20,
   "metadata": {},
   "outputs": [
    {
     "name": "stdout",
     "output_type": "stream",
     "text": [
      "+----+----------+---------+\n",
      "|  Id|Electrical|YearBuilt|\n",
      "+----+----------+---------+\n",
      "|1380|      null|     2006|\n",
      "+----+----------+---------+\n",
      "\n"
     ]
    }
   ],
   "source": [
    "union.filter(col('Electrical').isNull()).select('Id','Electrical','YearBuilt').show()"
   ]
  },
  {
   "cell_type": "markdown",
   "metadata": {},
   "source": [
    "Como el año de construcción de la vivienda es 2006, vamos a hacer un filtrado a partir del año 2000 para ver cuál es la categoría dominante e imputamos el valor."
   ]
  },
  {
   "cell_type": "code",
   "execution_count": 21,
   "metadata": {},
   "outputs": [
    {
     "name": "stdout",
     "output_type": "stream",
     "text": [
      "+----------+-----+\n",
      "|Electrical|count|\n",
      "+----------+-----+\n",
      "|      null|    1|\n",
      "|     SBrkr|  734|\n",
      "+----------+-----+\n",
      "\n"
     ]
    }
   ],
   "source": [
    "union.filter(union.YearBuilt > 2000).groupBy('Electrical').count().show()\n",
    "NA_dict['Electrical']='SBrkr'"
   ]
  },
  {
   "cell_type": "markdown",
   "metadata": {},
   "source": [
    "### Variables asociadas al exterior\n",
    "\n",
    "En este caso se procederá de manera equivalente al apartado anterior."
   ]
  },
  {
   "cell_type": "code",
   "execution_count": 22,
   "metadata": {},
   "outputs": [
    {
     "name": "stdout",
     "output_type": "stream",
     "text": [
      "+----+----------+---------+---------+----------+-----------+\n",
      "|  Id|Electrical|YearBuilt|ExterQual|MasVnrType|OverallQual|\n",
      "+----+----------+---------+---------+----------+-----------+\n",
      "|2152|     SBrkr|     1940|       TA|      None|          5|\n",
      "+----+----------+---------+---------+----------+-----------+\n",
      "\n"
     ]
    }
   ],
   "source": [
    "union.filter(col('Exterior1st').isNull()).select('Id','Electrical','YearBuilt', 'ExterQual', 'MasVnrType',\n",
    "                                                'OverallQual').show()"
   ]
  },
  {
   "cell_type": "code",
   "execution_count": 23,
   "metadata": {},
   "outputs": [
    {
     "name": "stdout",
     "output_type": "stream",
     "text": [
      "+-----------+-----+\n",
      "|Exterior1st|count|\n",
      "+-----------+-----+\n",
      "|       null|    1|\n",
      "|    WdShing|    4|\n",
      "|    Plywood|    4|\n",
      "|    Wd Sdng|   31|\n",
      "|    MetalSd|   28|\n",
      "|    AsbShng|    1|\n",
      "|    BrkComm|    1|\n",
      "|    BrkFace|    2|\n",
      "|    VinylSd|   13|\n",
      "+-----------+-----+\n",
      "\n",
      "+-----------+-----+\n",
      "|Exterior2nd|count|\n",
      "+-----------+-----+\n",
      "|       null|    1|\n",
      "|    HdBoard|    1|\n",
      "|    Plywood|    4|\n",
      "|    Wd Shng|    5|\n",
      "|    Wd Sdng|   29|\n",
      "|     Stucco|    1|\n",
      "|    MetalSd|   29|\n",
      "|    AsbShng|    1|\n",
      "|    Brk Cmn|    1|\n",
      "|    BrkFace|    1|\n",
      "|    VinylSd|   12|\n",
      "+-----------+-----+\n",
      "\n"
     ]
    }
   ],
   "source": [
    "union.filter((union.YearBuilt < 1950) & (union.YearBuilt > 1930) & (union.ExterQual =='TA')\\\n",
    "             & (union.MasVnrType == \"None\") & (union.OverallQual == 5)).groupBy('Exterior1st').count().show()\n",
    "union.filter((union.YearBuilt < 1950) & (union.YearBuilt > 1930) & (union.ExterQual =='TA')\\\n",
    "             & (union.MasVnrType == \"None\") & (union.OverallQual == 5)).groupBy('Exterior2nd').count().show()"
   ]
  },
  {
   "cell_type": "markdown",
   "metadata": {},
   "source": [
    "Parece que las dos categorías más frecuentes son Wd Sdng y MetalSd. Se ha decidido probar la primera opción, ya que es mayoritaria en la primera considición y está empatada en la segunda."
   ]
  },
  {
   "cell_type": "code",
   "execution_count": 24,
   "metadata": {
    "collapsed": true
   },
   "outputs": [],
   "source": [
    "NA_dict['Exterior1st']='Wd Sdng'\n",
    "NA_dict['Exterior2nd']='Wd Sdng'"
   ]
  },
  {
   "cell_type": "markdown",
   "metadata": {},
   "source": [
    "### Variables functional"
   ]
  },
  {
   "cell_type": "code",
   "execution_count": 25,
   "metadata": {},
   "outputs": [
    {
     "name": "stdout",
     "output_type": "stream",
     "text": [
      "+----+----------+--------+-------+\n",
      "|  Id|Functional|MSZoning|LotArea|\n",
      "+----+----------+--------+-------+\n",
      "|2217|      null|    null|  14584|\n",
      "|2474|      null|      RM|  10320|\n",
      "+----+----------+--------+-------+\n",
      "\n"
     ]
    }
   ],
   "source": [
    "union.filter(col('Functional').isNull()).select('Id','Functional','MSZoning', 'LotArea').show()"
   ]
  },
  {
   "cell_type": "code",
   "execution_count": 26,
   "metadata": {},
   "outputs": [
    {
     "name": "stdout",
     "output_type": "stream",
     "text": [
      "+----------+-----+\n",
      "|Functional|count|\n",
      "+----------+-----+\n",
      "|      Maj1|    1|\n",
      "|      null|    1|\n",
      "|      Min2|    5|\n",
      "|      Min1|    3|\n",
      "|       Typ|  128|\n",
      "|      Maj2|    3|\n",
      "|       Mod|    4|\n",
      "+----------+-----+\n",
      "\n"
     ]
    }
   ],
   "source": [
    "union.filter((union.MSZoning == \"RM\") & (union.LotArea < 17500) & (union.LotArea > 7500))\\\n",
    "            .groupBy('Functional').count().show()"
   ]
  },
  {
   "cell_type": "markdown",
   "metadata": {},
   "source": [
    "Parece razonable que la variable **Functional** esté relacionada con **MSZoning y LotArea**, ambas asociadas al uso del suelo y a su tamaño. Por tanto, se imputará la categoría Typ a ambos valores perdidos"
   ]
  },
  {
   "cell_type": "code",
   "execution_count": 27,
   "metadata": {
    "collapsed": true
   },
   "outputs": [],
   "source": [
    "NA_dict['Functional']='Typ'"
   ]
  },
  {
   "cell_type": "markdown",
   "metadata": {},
   "source": [
    "### Variables Garage"
   ]
  },
  {
   "cell_type": "code",
   "execution_count": 28,
   "metadata": {},
   "outputs": [
    {
     "name": "stdout",
     "output_type": "stream",
     "text": [
      "+----+----------+-----------+---------+------------+\n",
      "|  Id|GarageCars|OverallQual|SalePrice|Neighborhood|\n",
      "+----+----------+-----------+---------+------------+\n",
      "|2577|      null|          5|     null|      IDOTRR|\n",
      "+----+----------+-----------+---------+------------+\n",
      "\n",
      "+----+----------+-----------+---------+------------+\n",
      "|  Id|GarageArea|OverallQual|SalePrice|Neighborhood|\n",
      "+----+----------+-----------+---------+------------+\n",
      "|2577|      null|          5|     null|      IDOTRR|\n",
      "+----+----------+-----------+---------+------------+\n",
      "\n"
     ]
    }
   ],
   "source": [
    "union.filter(col('GarageArea').isNull()).select('Id','GarageCars','OverallQual', 'SalePrice', 'Neighborhood').show()\n",
    "union.filter(col('GarageCars').isNull()).select('Id','GarageArea','OverallQual', 'SalePrice', 'Neighborhood').show()"
   ]
  },
  {
   "cell_type": "markdown",
   "metadata": {},
   "source": [
    "Los valores perdidos en las variables de garage corresponden a la misma observación. Resulta complicado encontrar observaciones con características similares a que se está analizando, ya que la característica más correlada también está perdida. Se va a realizar un filtrado tanto por el tipo de vecindario como por una de las características más correladas, \"OverallQual\"."
   ]
  },
  {
   "cell_type": "code",
   "execution_count": 29,
   "metadata": {},
   "outputs": [
    {
     "name": "stdout",
     "output_type": "stream",
     "text": [
      "+-------+------------------+\n",
      "|summary|        GarageArea|\n",
      "+-------+------------------+\n",
      "|  count|                76|\n",
      "|   mean|310.19736842105266|\n",
      "| stddev|208.42859814890036|\n",
      "|    min|                 0|\n",
      "|    max|               924|\n",
      "+-------+------------------+\n",
      "\n",
      "+-------+------------------+\n",
      "|summary|        GarageCars|\n",
      "+-------+------------------+\n",
      "|  count|                76|\n",
      "|   mean|1.0657894736842106|\n",
      "| stddev|0.6600106325565667|\n",
      "|    min|                 0|\n",
      "|    max|                 2|\n",
      "+-------+------------------+\n",
      "\n"
     ]
    }
   ],
   "source": [
    "union.select('GarageArea').filter((union.Neighborhood == \"IDOTRR\") & (union.OverallQual < 7) & (union.OverallQual > 3))\\\n",
    "            .describe().show()\n",
    "    \n",
    "union.select('GarageCars').filter((union.Neighborhood == \"IDOTRR\") & (union.OverallQual < 7) & (union.OverallQual > 3))\\\n",
    "            .describe().show()"
   ]
  },
  {
   "cell_type": "code",
   "execution_count": 30,
   "metadata": {},
   "outputs": [
    {
     "name": "stdout",
     "output_type": "stream",
     "text": [
      "+----------+-----+\n",
      "|GarageCars|count|\n",
      "+----------+-----+\n",
      "|      null|    1|\n",
      "|         1|   43|\n",
      "|         2|   19|\n",
      "|         0|   14|\n",
      "+----------+-----+\n",
      "\n"
     ]
    }
   ],
   "source": [
    "union.filter((union.Neighborhood == \"IDOTRR\") & (union.OverallQual < 7) & (union.OverallQual > 3))\\\n",
    "            .groupBy('GarageCars').count().show()"
   ]
  },
  {
   "cell_type": "markdown",
   "metadata": {},
   "source": [
    "Se observa que en el barrio hay viviendas con plazas de garage que van desde 0 a 2. Como es una variable importante para fijar el precio de la vivienda parece razonable que el valor perdido se deba a que no hay plaza de apacamiento para dicha vivienda, por lo que se le imputará el valor 0 en ambos casos."
   ]
  },
  {
   "cell_type": "code",
   "execution_count": 31,
   "metadata": {
    "collapsed": true
   },
   "outputs": [],
   "source": [
    "NA_dict['GarageArea']=0\n",
    "NA_dict['GarageCars']=0"
   ]
  },
  {
   "cell_type": "markdown",
   "metadata": {},
   "source": [
    "### Variable KitchenQual"
   ]
  },
  {
   "cell_type": "code",
   "execution_count": 32,
   "metadata": {},
   "outputs": [
    {
     "name": "stdout",
     "output_type": "stream",
     "text": [
      "+----+-----------+---------+------------+-----------+------------+\n",
      "|  Id|OverallQual|SalePrice|KitchenAbvGr|KitchenQual|Neighborhood|\n",
      "+----+-----------+---------+------------+-----------+------------+\n",
      "|1556|          5|     null|           1|       null|     ClearCr|\n",
      "+----+-----------+---------+------------+-----------+------------+\n",
      "\n"
     ]
    }
   ],
   "source": [
    "union.filter(col('KitchenQual').isNull()).select('Id','OverallQual','SalePrice','KitchenAbvGr','KitchenQual', \\\n",
    "                                                 'Neighborhood').show()"
   ]
  },
  {
   "cell_type": "code",
   "execution_count": 33,
   "metadata": {},
   "outputs": [
    {
     "name": "stdout",
     "output_type": "stream",
     "text": [
      "+-----------+-----+\n",
      "|KitchenQual|count|\n",
      "+-----------+-----+\n",
      "|         Gd|    1|\n",
      "|       null|    1|\n",
      "|         Ex|    2|\n",
      "|         TA|    7|\n",
      "+-----------+-----+\n",
      "\n"
     ]
    }
   ],
   "source": [
    "union.filter((union.Neighborhood == \"ClearCr\") & (union.OverallQual ==5)\\\n",
    "                                   & (union.KitchenAbvGr == 1)).groupBy('KitchenQual').count().show()"
   ]
  },
  {
   "cell_type": "markdown",
   "metadata": {},
   "source": [
    "Sustituimos por el valor más común \"TA\""
   ]
  },
  {
   "cell_type": "code",
   "execution_count": 34,
   "metadata": {
    "collapsed": true
   },
   "outputs": [],
   "source": [
    "NA_dict['KitchenQual'] = 'TA'"
   ]
  },
  {
   "cell_type": "markdown",
   "metadata": {},
   "source": [
    "### Variable MSZoning"
   ]
  },
  {
   "cell_type": "code",
   "execution_count": 35,
   "metadata": {},
   "outputs": [
    {
     "name": "stdout",
     "output_type": "stream",
     "text": [
      "+----+-----------+--------+----------+-------+------------+\n",
      "|  Id|OverallQual|MSZoning|Functional|LotArea|Neighborhood|\n",
      "+----+-----------+--------+----------+-------+------------+\n",
      "|1916|          2|    null|      Min1|  21780|      IDOTRR|\n",
      "|2217|          1|    null|      null|  14584|      IDOTRR|\n",
      "|2251|          5|    null|      Maj1|  56600|      IDOTRR|\n",
      "|2905|          1|    null|       Mod|  31250|     Mitchel|\n",
      "+----+-----------+--------+----------+-------+------------+\n",
      "\n"
     ]
    }
   ],
   "source": [
    "union.filter(col('MSZoning').isNull()).select('Id','OverallQual','MSZoning','Functional','LotArea', \\\n",
    "                                                 'Neighborhood').show()"
   ]
  },
  {
   "cell_type": "code",
   "execution_count": 36,
   "metadata": {},
   "outputs": [
    {
     "name": "stdout",
     "output_type": "stream",
     "text": [
      "+--------+-----+\n",
      "|MSZoning|count|\n",
      "+--------+-----+\n",
      "| C (all)|   20|\n",
      "|    null|    3|\n",
      "|      RH|    4|\n",
      "|      RL|  164|\n",
      "|      RM|   92|\n",
      "+--------+-----+\n",
      "\n"
     ]
    }
   ],
   "source": [
    "union.filter((union.OverallQual < 5)).groupBy('MSZoning').count().show()"
   ]
  },
  {
   "cell_type": "markdown",
   "metadata": {},
   "source": [
    "Se imputará el valor mas frecuente : \"RL\""
   ]
  },
  {
   "cell_type": "code",
   "execution_count": 37,
   "metadata": {
    "collapsed": true
   },
   "outputs": [],
   "source": [
    "NA_dict['MSZoning'] = 'RL'"
   ]
  },
  {
   "cell_type": "markdown",
   "metadata": {},
   "source": [
    "### Variable MasVnrArea\n",
    "\n",
    "Esta variable indica los metros cuadrados de revestimiento (madera, enchapado, mármol) de la vivienda. Vamos a buscar características comunes de las viviendas con dicho valor faltante y realizaremos un estudio estadístico de las observaciones con características similares."
   ]
  },
  {
   "cell_type": "code",
   "execution_count": 38,
   "metadata": {},
   "outputs": [
    {
     "name": "stdout",
     "output_type": "stream",
     "text": [
      "+----+-----------+--------+---------+----------+------------+\n",
      "|  Id|OverallQual|MSZoning|SalePrice|MasVnrType|Neighborhood|\n",
      "+----+-----------+--------+---------+----------+------------+\n",
      "| 235|          6|      RL|   216500|      null|     Gilbert|\n",
      "| 530|          6|      RL|   200624|      null|     Crawfor|\n",
      "| 651|          7|      FV|   205950|      null|     Somerst|\n",
      "| 937|          7|      RL|   184900|      null|     SawyerW|\n",
      "| 974|          7|      FV|   182000|      null|     Somerst|\n",
      "| 978|          7|      FV|   199900|      null|     Somerst|\n",
      "|1244|         10|      RL|   465000|      null|     NridgHt|\n",
      "|1279|          8|      RL|   237000|      null|     CollgCr|\n",
      "|1692|          8|      RL|     null|      null|     Gilbert|\n",
      "|1707|          7|      FV|     null|      null|     Somerst|\n",
      "|1883|          7|      RL|     null|      null|     CollgCr|\n",
      "|1993|          7|      RL|     null|      null|     Gilbert|\n",
      "|2005|          8|      RL|     null|      null|     Somerst|\n",
      "|2042|          7|      FV|     null|      null|     Somerst|\n",
      "|2312|          6|      RL|     null|      null|     Gilbert|\n",
      "|2326|          7|      RL|     null|      null|     Gilbert|\n",
      "|2341|          7|      RL|     null|      null|     Somerst|\n",
      "|2350|          8|      FV|     null|      null|     Somerst|\n",
      "|2369|          8|      FV|     null|      null|     Somerst|\n",
      "|2593|          8|      RL|     null|      null|      Timber|\n",
      "+----+-----------+--------+---------+----------+------------+\n",
      "only showing top 20 rows\n",
      "\n"
     ]
    }
   ],
   "source": [
    "union.filter(col('MasVnrArea').isNull()).select('Id','OverallQual','MSZoning','SalePrice','MasVnrType','Neighborhood')\\\n",
    ".show()"
   ]
  },
  {
   "cell_type": "code",
   "execution_count": 39,
   "metadata": {},
   "outputs": [
    {
     "name": "stdout",
     "output_type": "stream",
     "text": [
      "+-------+------------------+\n",
      "|summary|        MasVnrArea|\n",
      "+-------+------------------+\n",
      "|  count|               995|\n",
      "|   mean|179.54371859296484|\n",
      "| stddev|227.73285747666753|\n",
      "|    min|                 0|\n",
      "|    max|              1600|\n",
      "+-------+------------------+\n",
      "\n"
     ]
    }
   ],
   "source": [
    "union.select('MasVnrArea').filter((union.OverallQual > 6) &((union.MSZoning == \"RL\")|(union.MSZoning == \"FV\")))\\\n",
    "                          .describe().show()"
   ]
  },
  {
   "cell_type": "markdown",
   "metadata": {},
   "source": [
    "Parece razonable imputar el valor 0 a esta variable. La media se acerca más al valor mínimo (0) que el máximo (1600). Además tiene mas sentido que la ausencia del dato pretenda indicar que no hay ningún tipo de revestimiento. De hecho, la variable MasVnrType que indica el tipo de revestimiento también falta en todas las observaciones, lo que corrobora la teoría planteada."
   ]
  },
  {
   "cell_type": "code",
   "execution_count": 40,
   "metadata": {
    "collapsed": true
   },
   "outputs": [],
   "source": [
    "NA_dict['MasVnrArea'] = 0\n",
    "NA_dict['MasVnrType'] = 0"
   ]
  },
  {
   "cell_type": "markdown",
   "metadata": {},
   "source": [
    "### Variable SaleType"
   ]
  },
  {
   "cell_type": "code",
   "execution_count": 41,
   "metadata": {},
   "outputs": [
    {
     "name": "stdout",
     "output_type": "stream",
     "text": [
      "+----+-----------+--------+---------+-------+------------+\n",
      "|  Id|OverallQual|MSZoning|SalePrice|LotArea|Neighborhood|\n",
      "+----+-----------+--------+---------+-------+------------+\n",
      "|2490|          5|      RL|     null|  13770|      Sawyer|\n",
      "+----+-----------+--------+---------+-------+------------+\n",
      "\n"
     ]
    }
   ],
   "source": [
    "union.filter(col('SaleType').isNull()).select('Id','OverallQual','MSZoning','SalePrice','LotArea','Neighborhood')\\\n",
    ".show()"
   ]
  },
  {
   "cell_type": "code",
   "execution_count": 42,
   "metadata": {},
   "outputs": [
    {
     "name": "stdout",
     "output_type": "stream",
     "text": [
      "+--------+-----+\n",
      "|SaleType|count|\n",
      "+--------+-----+\n",
      "|     COD|    2|\n",
      "|    null|    1|\n",
      "|     Oth|    1|\n",
      "|      WD|  106|\n",
      "+--------+-----+\n",
      "\n"
     ]
    }
   ],
   "source": [
    "union.filter((union.Neighborhood == \"Sawyer\") & (union.OverallQual == 5)\\\n",
    "                                   & (union.MSZoning == 'RL')).groupBy('SaleType').count().show()"
   ]
  },
  {
   "cell_type": "markdown",
   "metadata": {},
   "source": [
    "El valor más frecuente en viviendas con características similares es \"WD\""
   ]
  },
  {
   "cell_type": "code",
   "execution_count": 43,
   "metadata": {
    "collapsed": true
   },
   "outputs": [],
   "source": [
    "NA_dict['SaleType'] = \"WD\""
   ]
  },
  {
   "cell_type": "markdown",
   "metadata": {},
   "source": [
    "### Variable Utilities"
   ]
  },
  {
   "cell_type": "code",
   "execution_count": 44,
   "metadata": {},
   "outputs": [
    {
     "name": "stdout",
     "output_type": "stream",
     "text": [
      "+----+-----------+-----------+----------+------------+---------+----------+---------+------------+\n",
      "|  Id|OverallQual|OverallCond|HouseStyle|Neighborhood|HeatingQC|Electrical|YearBuilt|YearRemodAdd|\n",
      "+----+-----------+-----------+----------+------------+---------+----------+---------+------------+\n",
      "|1916|          2|          4|    1Story|      IDOTRR|       TA|     FuseA|     1910|        1950|\n",
      "|1946|          6|          2|    1Story|     Gilbert|       TA|     FuseA|     1952|        1952|\n",
      "+----+-----------+-----------+----------+------------+---------+----------+---------+------------+\n",
      "\n"
     ]
    }
   ],
   "source": [
    "union.filter(col('Utilities').isNull()).select('Id','OverallQual','OverallCond','HouseStyle','Neighborhood',\\\n",
    "                                               'HeatingQC','Electrical','YearBuilt','YearRemodAdd').show()"
   ]
  },
  {
   "cell_type": "markdown",
   "metadata": {},
   "source": [
    "Con una rápida inspección nos damos cuenta de que se trata de casas antiguas que no han sido remodeladas a partir de los 50. La instalación eléctrica es antigua y tienen sistema de refrigeración y calefacción típicos. La calidad general de la casa es media-baja y no están en buen estado. Vamos a buscar casas con características similares."
   ]
  },
  {
   "cell_type": "code",
   "execution_count": 45,
   "metadata": {},
   "outputs": [
    {
     "name": "stdout",
     "output_type": "stream",
     "text": [
      "+---------+-----+\n",
      "|Utilities|count|\n",
      "+---------+-----+\n",
      "|     null|    2|\n",
      "|   AllPub|   24|\n",
      "+---------+-----+\n",
      "\n"
     ]
    }
   ],
   "source": [
    "union.filter((union.HeatingQC == \"TA\") & (union.Electrical == \"FuseA\") & (union.OverallQual < 7)\\\n",
    "                                 & (union.OverallCond < 6) & (union.HouseStyle == \"1Story\") & \\\n",
    "                                 (union.YearRemodAdd < 1970)).groupBy('Utilities').count().show()"
   ]
  },
  {
   "cell_type": "markdown",
   "metadata": {},
   "source": [
    "Por los datos recogidos en el análisis se ha decidido imputar el valor de 'AllPub'. Sin embargo, se ha realizado un estudio demasiado exhaustivo de esta variable, dejando de lado la posibilidad de que no aporte información desde un punto de vista más amplio. Para ello, se va a analizar los diferentes valores que toma en todo el conjunto de datos."
   ]
  },
  {
   "cell_type": "code",
   "execution_count": 46,
   "metadata": {},
   "outputs": [
    {
     "name": "stdout",
     "output_type": "stream",
     "text": [
      "+---------+-----+\n",
      "|Utilities|count|\n",
      "+---------+-----+\n",
      "|     null|    2|\n",
      "|   NoSeWa|    1|\n",
      "|   AllPub| 2916|\n",
      "+---------+-----+\n",
      "\n"
     ]
    }
   ],
   "source": [
    "union.groupBy(col('Utilities')).count().show()"
   ]
  },
  {
   "cell_type": "markdown",
   "metadata": {},
   "source": [
    "Se comprueba que la variable Utilities no aporta ninguna información, y junto con la variable LotFrontage van a ser eliminadas."
   ]
  },
  {
   "cell_type": "markdown",
   "metadata": {},
   "source": [
    "## Eliminación de variables e imputación de valores perdidos."
   ]
  },
  {
   "cell_type": "code",
   "execution_count": 47,
   "metadata": {
    "collapsed": true
   },
   "outputs": [],
   "source": [
    "# Eliminamos las variables comentadas\n",
    "\n",
    "union = union.drop('Utilities', 'LotFrontage')"
   ]
  },
  {
   "cell_type": "code",
   "execution_count": 48,
   "metadata": {
    "collapsed": true
   },
   "outputs": [],
   "source": [
    "# Imputamos los valores perdidos\n",
    "\n",
    "union = union.fillna(NA_dict)"
   ]
  },
  {
   "cell_type": "code",
   "execution_count": 49,
   "metadata": {
    "collapsed": true
   },
   "outputs": [],
   "source": [
    "# Comprobación de que no existen valores perdidos\n",
    "# El resultado se convierte a diccionario para facilitar el tratamiento\n",
    "dic_list = tmp1(union)[0].asDict()\n",
    "\n",
    "# Se filtran aquellas variables sin valores perdidos\n",
    "dic_filtered = dict((k, v) for (k, v) in dic_list.items() if v > 0)"
   ]
  },
  {
   "cell_type": "code",
   "execution_count": 50,
   "metadata": {},
   "outputs": [
    {
     "data": {
      "text/plain": [
       "{'SalePrice': 1459}"
      ]
     },
     "execution_count": 50,
     "metadata": {},
     "output_type": "execute_result"
    }
   ],
   "source": [
    "# La única variable con valores missing es \"SalePrice\", generados a propósito para discriminar el conjunto test\n",
    "dic_filtered"
   ]
  },
  {
   "cell_type": "markdown",
   "metadata": {},
   "source": [
    "## Transformaciones de variables\n",
    "\n",
    "Como ya se introdujo en el notebook anterior, se va a proceder a aplicar una transformación logarítmica a aquellas variables que no siguen una distribución normal. La variable 'SalePrice' se transformará a la hora de calcular el rmsle, por lo que queda fuera en este proceso."
   ]
  },
  {
   "cell_type": "code",
   "execution_count": 51,
   "metadata": {
    "collapsed": true
   },
   "outputs": [],
   "source": [
    "log_list=['GrLivArea','GarageArea','1stFlrSF', 'TotalBsmtSF']\n",
    "\n",
    "for c in log_list:\n",
    "    union = union.withColumn(c,log1p(union[c]))"
   ]
  },
  {
   "cell_type": "markdown",
   "metadata": {},
   "source": [
    "## Guardado de datos"
   ]
  },
  {
   "cell_type": "code",
   "execution_count": 52,
   "metadata": {
    "collapsed": true
   },
   "outputs": [],
   "source": [
    "path = 'preprocessed'\n",
    "union.write.csv(path, header=True, mode='overwrite')"
   ]
  },
  {
   "cell_type": "code",
   "execution_count": 53,
   "metadata": {
    "collapsed": true
   },
   "outputs": [],
   "source": [
    "spark.stop()"
   ]
  }
 ],
 "metadata": {
  "kernelspec": {
   "display_name": "Python3.5 (testenv)",
   "language": "python",
   "name": "testenv"
  },
  "language_info": {
   "codemirror_mode": {
    "name": "ipython",
    "version": 3
   },
   "file_extension": ".py",
   "mimetype": "text/x-python",
   "name": "python",
   "nbconvert_exporter": "python",
   "pygments_lexer": "ipython3",
   "version": "3.5.3"
  }
 },
 "nbformat": 4,
 "nbformat_minor": 2
}
